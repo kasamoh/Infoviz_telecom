{
 "cells": [
  {
   "cell_type": "markdown",
   "metadata": {},
   "source": [
    "# Build a table: region code -> region polygon\n",
    "\n",
    "In this section we will build a static reference of region to be used to plot a Colorpleth of France.\n",
    "Region path will be indexed by region code, the code is retrieved from the INSEE.\n",
    "We will use these files:\n",
    "* region2019-csv: columns **Code région** and **Nom en clair (majuscules)**\n",
    "* regions-version-simplifiee.geojson: The files provided by Mohamed containing regions paths"
   ]
  },
  {
   "cell_type": "code",
   "execution_count": 13,
   "metadata": {},
   "outputs": [],
   "source": [
    "import json\n",
    "import pandas as pd"
   ]
  },
  {
   "cell_type": "code",
   "execution_count": 10,
   "metadata": {},
   "outputs": [
    {
     "name": "stdout",
     "output_type": "stream",
     "text": [
      "--2019-06-12 19:36:25--  https://www.insee.fr/fr/statistiques/fichier/3720946/region2019-csv.zip\n",
      "Resolving www.insee.fr (www.insee.fr)... 194.254.37.163, 143.196.255.163\n",
      "Connecting to www.insee.fr (www.insee.fr)|194.254.37.163|:443... connected.\n",
      "HTTP request sent, awaiting response... 200 \n",
      "Length: unspecified [application/zip]\n",
      "Saving to: ‘region2019-csv.zip’\n",
      "\n",
      "region2019-csv.zip      [ <=>                ]     735  --.-KB/s    in 0s      \n",
      "\n",
      "2019-06-12 19:36:26 (18.0 MB/s) - ‘region2019-csv.zip’ saved [735]\n",
      "\n",
      "Archive:  region2019-csv.zip\n",
      "  inflating: region2019.csv          \n",
      "Untitled.ipynb                     region2019.csv\n",
      "region2019-csv.zip                 regions-version-simplifiee.geojson\n"
     ]
    }
   ],
   "source": [
    "# Download INSEE 2019 region data\n",
    "!wget https://www.insee.fr/fr/statistiques/fichier/3720946/region2019-csv.zip\n",
    "!unzip region2019-csv.zip\n",
    "!ls"
   ]
  },
  {
   "cell_type": "code",
   "execution_count": 25,
   "metadata": {},
   "outputs": [
    {
     "data": {
      "text/html": [
       "<div>\n",
       "<style scoped>\n",
       "    .dataframe tbody tr th:only-of-type {\n",
       "        vertical-align: middle;\n",
       "    }\n",
       "\n",
       "    .dataframe tbody tr th {\n",
       "        vertical-align: top;\n",
       "    }\n",
       "\n",
       "    .dataframe thead th {\n",
       "        text-align: right;\n",
       "    }\n",
       "</style>\n",
       "<table border=\"1\" class=\"dataframe\">\n",
       "  <thead>\n",
       "    <tr style=\"text-align: right;\">\n",
       "      <th></th>\n",
       "      <th>reg</th>\n",
       "      <th>cheflieu</th>\n",
       "      <th>tncc</th>\n",
       "      <th>ncc</th>\n",
       "      <th>nccenr</th>\n",
       "      <th>libelle</th>\n",
       "    </tr>\n",
       "  </thead>\n",
       "  <tbody>\n",
       "    <tr>\n",
       "      <th>7</th>\n",
       "      <td>27</td>\n",
       "      <td>21231</td>\n",
       "      <td>0</td>\n",
       "      <td>BOURGOGNE FRANCHE COMTE</td>\n",
       "      <td>Bourgogne-Franche-Comté</td>\n",
       "      <td>Bourgogne-Franche-Comté</td>\n",
       "    </tr>\n",
       "  </tbody>\n",
       "</table>\n",
       "</div>"
      ],
      "text/plain": [
       "   reg cheflieu  tncc                      ncc                   nccenr  \\\n",
       "7   27    21231     0  BOURGOGNE FRANCHE COMTE  Bourgogne-Franche-Comté   \n",
       "\n",
       "                   libelle  \n",
       "7  Bourgogne-Franche-Comté  "
      ]
     },
     "execution_count": 25,
     "metadata": {},
     "output_type": "execute_result"
    }
   ],
   "source": [
    "# Load new region codes\n",
    "region2019_df = pd.read_csv(\"./region2019.csv\")\n",
    "region2019_df[region2019_df[\"reg\"] ==  27]"
   ]
  },
  {
   "cell_type": "code",
   "execution_count": 57,
   "metadata": {},
   "outputs": [
    {
     "data": {
      "text/plain": [
       "'7    BOURGOGNE FRANCHE COMTE\\nName: ncc, dtype: object'"
      ]
     },
     "execution_count": 57,
     "metadata": {},
     "output_type": "execute_result"
    }
   ],
   "source": [
    "v = region2019_df[region2019_df[\"reg\"] ==  27][\"ncc\"]"
   ]
  },
  {
   "cell_type": "code",
   "execution_count": 123,
   "metadata": {},
   "outputs": [],
   "source": [
    "with open(\"regions-version-simplifiee.geojson\") as f:\n",
    "    geodata = json.load(f)"
   ]
  },
  {
   "cell_type": "code",
   "execution_count": 60,
   "metadata": {},
   "outputs": [],
   "source": [
    "regions_paths = {}\n",
    "for f in geodata[\"features\"]:\n",
    "    code = f[\"properties\"][\"code\"]\n",
    "    old_name = f[\"properties\"][\"nom\"]\n",
    "    name = region2019_df[region2019_df[\"reg\"] ==  int(code)].iloc[0][\"libelle\"]\n",
    "    regions_paths[code] = {\n",
    "        \"name\":name,\n",
    "        \"old_name\": old_name,\n",
    "        \"feature\": f\n",
    "    }"
   ]
  },
  {
   "cell_type": "code",
   "execution_count": null,
   "metadata": {},
   "outputs": [],
   "source": [
    "with open(\"regions.json\", \"w\") as f:\n",
    "    json.dump(regions_paths, f)"
   ]
  },
  {
   "cell_type": "code",
   "execution_count": 71,
   "metadata": {},
   "outputs": [],
   "source": [
    "with open(\"regions_codes.txt\", \"w\") as f:\n",
    "    f.write(\"code\\n\")\n",
    "    for code in regions_paths.keys():\n",
    "        f.write(\"%s\\n\" % code)"
   ]
  },
  {
   "cell_type": "markdown",
   "metadata": {},
   "source": [
    "# Build a table region -> total consumption"
   ]
  },
  {
   "cell_type": "markdown",
   "metadata": {},
   "source": [
    "We want to have a consumption table. The table would be ideally indexed by INSEE region code so for each region we can retrieve directly its consumption."
   ]
  },
  {
   "cell_type": "code",
   "execution_count": 75,
   "metadata": {},
   "outputs": [],
   "source": [
    "regions_codes = pd.read_csv(\"regions_codes.txt\")"
   ]
  },
  {
   "cell_type": "code",
   "execution_count": 78,
   "metadata": {},
   "outputs": [
    {
     "data": {
      "text/plain": [
       "Index(['Année', 'Nom région', 'Code région', 'Nb sites Résidentiel',\n",
       "       'Conso totale Résidentiel (MWh)', 'Conso moyenne Résidentiel (MWh)',\n",
       "       'Nb sites Professionnel', 'Conso totale Professionnel (MWh)',\n",
       "       'Conso moyenne Professionnel (MWh)', 'Nb sites Agriculture',\n",
       "       'Conso totale Agriculture (MWh)', 'Nb sites Industrie',\n",
       "       'Conso totale Industrie (MWh)', 'Nb sites Tertiaire',\n",
       "       'Conso totale Tertiaire (MWh)', 'Nb sites Secteur non affecté',\n",
       "       'Conso totale Secteur non affecté (MWh)', 'Nombre d'habitants',\n",
       "       'Taux de logements collectifs', 'Taux de résidences principales',\n",
       "       'Superficie des logements < 30 m2',\n",
       "       'Superficie des logements 30 à 40 m2',\n",
       "       'Superficie des logements 40 à 60 m2',\n",
       "       'Superficie des logements 60 à 80 m2',\n",
       "       'Superficie des logements 80 à 100 m2',\n",
       "       'Superficie des logements > 100 m2',\n",
       "       'Résidences principales avant 1919',\n",
       "       'Résidences principales de 1919 à 1945',\n",
       "       'Résidences principales de 1946 à 1970',\n",
       "       'Résidences principales de 1971 à 1990',\n",
       "       'Résidences principales de 1991 à 2005',\n",
       "       'Résidences principales de 2006 à 2010',\n",
       "       'Résidences principales après 2011', 'Taux de chauffage électrique',\n",
       "       'Geo Shape', 'Geo Point 2D'],\n",
       "      dtype='object')"
      ]
     },
     "execution_count": 78,
     "metadata": {},
     "output_type": "execute_result"
    }
   ],
   "source": [
    "df = pd.read_csv(\"consommation-electrique-par-secteur-dactivite-region.csv\", delimiter=\";\")\n",
    "df.columns"
   ]
  },
  {
   "cell_type": "code",
   "execution_count": 102,
   "metadata": {},
   "outputs": [
    {
     "data": {
      "text/plain": [
       "((84, 37), (84, 36), (13, 1))"
      ]
     },
     "execution_count": 102,
     "metadata": {},
     "output_type": "execute_result"
    }
   ],
   "source": [
    "filtered_df = regions_codes.merge(df, right_on=\"Code région\", left_on=\"code\", how=\"inner\")\n",
    "filtered_df.shape, df.shape, regions_codes.shape"
   ]
  },
  {
   "cell_type": "code",
   "execution_count": 117,
   "metadata": {},
   "outputs": [],
   "source": [
    "availible_years = filtered_df[\"Année\"].unique()\n",
    "regions_consumption = {}\n",
    "\n",
    "for code, region_groupdf in filtered_df.groupby(\"code\"):\n",
    "    regions_consumption[code] = {}\n",
    "    for year, year_groupdf in  region_groupdf.groupby(\"Année\"):\n",
    "        regions_consumption[code][year] = year_groupdf.iloc[0][\"Conso moyenne Résidentiel (MWh)\"]"
   ]
  },
  {
   "cell_type": "code",
   "execution_count": 119,
   "metadata": {},
   "outputs": [],
   "source": [
    "with open(\"regions_consumption.json\", \"w\") as f:\n",
    "    json.dump(regions_consumption, f)"
   ]
  }
 ],
 "metadata": {
  "kernelspec": {
   "display_name": "Python 3",
   "language": "python",
   "name": "python3"
  },
  "language_info": {
   "codemirror_mode": {
    "name": "ipython",
    "version": 3
   },
   "file_extension": ".py",
   "mimetype": "text/x-python",
   "name": "python",
   "nbconvert_exporter": "python",
   "pygments_lexer": "ipython3",
   "version": "3.6.8"
  },
  "toc": {
   "base_numbering": 1,
   "nav_menu": {},
   "number_sections": true,
   "sideBar": true,
   "skip_h1_title": false,
   "title_cell": "Table of Contents",
   "title_sidebar": "Contents",
   "toc_cell": false,
   "toc_position": {},
   "toc_section_display": true,
   "toc_window_display": false
  }
 },
 "nbformat": 4,
 "nbformat_minor": 2
}

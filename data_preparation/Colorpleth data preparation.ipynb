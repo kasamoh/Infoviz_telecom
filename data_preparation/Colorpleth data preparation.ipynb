{
 "cells": [
  {
   "cell_type": "markdown",
   "metadata": {},
   "source": [
    "# Build a table: region code -> region polygon\n",
    "\n",
    "In this section we will build a static reference of region to be used to plot a Colorpleth of France.\n",
    "Region path will be indexed by region code, the code is retrieved from the INSEE.\n",
    "We will use these files:\n",
    "* region2019-csv: columns **Code région** and **Nom en clair (majuscules)**\n",
    "* regions-version-simplifiee.geojson: The files provided by Mohamed containing regions paths"
   ]
  },
  {
   "cell_type": "code",
   "execution_count": 46,
   "metadata": {},
   "outputs": [],
   "source": [
    "import json\n",
    "import pandas as pd\n",
    "import numpy as np"
   ]
  },
  {
   "cell_type": "code",
   "execution_count": 47,
   "metadata": {
    "scrolled": true
   },
   "outputs": [
    {
     "name": "stderr",
     "output_type": "stream",
     "text": [
      "'wget' n'est pas reconnu en tant que commande interne\n",
      "ou externe, un programme ex‚cutable ou un fichier de commandes.\n",
      "'unzip' n'est pas reconnu en tant que commande interne\n",
      "ou externe, un programme ex‚cutable ou un fichier de commandes.\n",
      "'ls' n'est pas reconnu en tant que commande interne\n",
      "ou externe, un programme ex‚cutable ou un fichier de commandes.\n"
     ]
    }
   ],
   "source": [
    "# Download INSEE 2019 region data\n",
    "!wget https://www.insee.fr/fr/statistiques/fichier/3720946/region2019-csv.zip\n",
    "!unzip region2019-csv.zip\n",
    "!ls"
   ]
  },
  {
   "cell_type": "code",
   "execution_count": 48,
   "metadata": {},
   "outputs": [
    {
     "data": {
      "text/html": [
       "<div>\n",
       "<style scoped>\n",
       "    .dataframe tbody tr th:only-of-type {\n",
       "        vertical-align: middle;\n",
       "    }\n",
       "\n",
       "    .dataframe tbody tr th {\n",
       "        vertical-align: top;\n",
       "    }\n",
       "\n",
       "    .dataframe thead th {\n",
       "        text-align: right;\n",
       "    }\n",
       "</style>\n",
       "<table border=\"1\" class=\"dataframe\">\n",
       "  <thead>\n",
       "    <tr style=\"text-align: right;\">\n",
       "      <th></th>\n",
       "      <th>reg</th>\n",
       "      <th>cheflieu</th>\n",
       "      <th>tncc</th>\n",
       "      <th>ncc</th>\n",
       "      <th>nccenr</th>\n",
       "      <th>libelle</th>\n",
       "    </tr>\n",
       "  </thead>\n",
       "  <tbody>\n",
       "    <tr>\n",
       "      <th>7</th>\n",
       "      <td>27</td>\n",
       "      <td>21231</td>\n",
       "      <td>0</td>\n",
       "      <td>BOURGOGNE FRANCHE COMTE</td>\n",
       "      <td>Bourgogne-Franche-Comté</td>\n",
       "      <td>Bourgogne-Franche-Comté</td>\n",
       "    </tr>\n",
       "  </tbody>\n",
       "</table>\n",
       "</div>"
      ],
      "text/plain": [
       "   reg cheflieu  tncc                      ncc                   nccenr  \\\n",
       "7   27    21231     0  BOURGOGNE FRANCHE COMTE  Bourgogne-Franche-Comté   \n",
       "\n",
       "                   libelle  \n",
       "7  Bourgogne-Franche-Comté  "
      ]
     },
     "execution_count": 48,
     "metadata": {},
     "output_type": "execute_result"
    }
   ],
   "source": [
    "# Load new region codes\n",
    "region2019_df = pd.read_csv(\"./region2019.csv\")\n",
    "region2019_df[region2019_df[\"reg\"] ==  27]"
   ]
  },
  {
   "cell_type": "code",
   "execution_count": 49,
   "metadata": {},
   "outputs": [],
   "source": [
    "v = region2019_df[region2019_df[\"reg\"] ==  27][\"ncc\"]"
   ]
  },
  {
   "cell_type": "code",
   "execution_count": 50,
   "metadata": {},
   "outputs": [],
   "source": [
    "with open(\"regions-version-simplifiee.geojson\") as f:\n",
    "    geodata = json.load(f)"
   ]
  },
  {
   "cell_type": "code",
   "execution_count": 51,
   "metadata": {},
   "outputs": [],
   "source": [
    "regions_paths = {}\n",
    "for f in geodata[\"features\"]:\n",
    "    code = f[\"properties\"][\"code\"]\n",
    "    old_name = f[\"properties\"][\"nom\"]\n",
    "    name = region2019_df[region2019_df[\"reg\"] ==  int(code)].iloc[0][\"libelle\"]\n",
    "    regions_paths[code] = {\n",
    "        \"name\":name,\n",
    "        \"old_name\": old_name,\n",
    "        \"feature\": f\n",
    "    }"
   ]
  },
  {
   "cell_type": "code",
   "execution_count": 52,
   "metadata": {},
   "outputs": [],
   "source": [
    "with open(\"regions.json\", \"w\") as f:\n",
    "    json.dump(regions_paths, f)"
   ]
  },
  {
   "cell_type": "code",
   "execution_count": 53,
   "metadata": {},
   "outputs": [],
   "source": [
    "with open(\"regions_codes.txt\", \"w\") as f:\n",
    "    f.write(\"code\\n\")\n",
    "    for code in regions_paths.keys():\n",
    "        f.write(\"%s\\n\" % code)"
   ]
  },
  {
   "cell_type": "markdown",
   "metadata": {},
   "source": [
    "# Build a table region -> total consumption"
   ]
  },
  {
   "cell_type": "markdown",
   "metadata": {},
   "source": [
    "We want to have a consumption table. The table would be ideally indexed by INSEE region code so for each region we can retrieve directly its consumption."
   ]
  },
  {
   "cell_type": "code",
   "execution_count": 54,
   "metadata": {},
   "outputs": [],
   "source": [
    "regions_codes = pd.read_csv(\"regions_codes.txt\")"
   ]
  },
  {
   "cell_type": "code",
   "execution_count": 55,
   "metadata": {},
   "outputs": [],
   "source": [
    "df = pd.read_csv(\"consommation-electrique-par-secteur-dactivite-region.csv\", delimiter=\";\")"
   ]
  },
  {
   "cell_type": "code",
   "execution_count": 56,
   "metadata": {},
   "outputs": [],
   "source": [
    "df['Agriculture'] = np.round(df['Conso totale Agriculture (MWh)']/df['Nb sites Agriculture'],-1)\n",
    "df['Industrie'] = np.round(df['Conso totale Industrie (MWh)']/df['Nb sites Industrie'],-1)\n",
    "df['Tertiaire'] = np.round(df['Conso totale Tertiaire (MWh)']/df['Nb sites Tertiaire'],-1)\n",
    "df['Autre'] = np.round(df['Conso totale Secteur non affecté (MWh)']/df['Nb sites Secteur non affecté'],-1)\n",
    "df['Résidentiel'] = np.round(df['Conso moyenne Résidentiel (MWh)'] / (df['Superficie des logements 30 à 40 m2']\n",
    "                                                                          + df['Superficie des logements 40 à 60 m2']\n",
    "                                                                          + df['Superficie des logements 60 à 80 m2']\n",
    "                                                                          + df['Superficie des logements 80 à 100 m2']\n",
    "                                                                          + df['Superficie des logements < 30 m2']\n",
    "                                                                          + df['Superficie des logements > 100 m2']),3)\n",
    "df['Total'] = np.round((df['Agriculture'] + df['Industrie'] + df['Tertiaire'] + df['Autre'] + df['Résidentiel'])/5,-1)\n"
   ]
  },
  {
   "cell_type": "code",
   "execution_count": 57,
   "metadata": {},
   "outputs": [],
   "source": [
    "filtered_df = regions_codes.merge(df, right_on=\"Code région\", left_on=\"code\", how=\"inner\")\n",
    "filtered_df.shape, df.shape, regions_codes.shape\n",
    "filtered_df = filtered_df[['Année','code',\n",
    "            'Total',\n",
    "             'Agriculture',\n",
    "             'Industrie',\n",
    "             'Tertiaire',\n",
    "             'Résidentiel',\n",
    "             'Autre']]"
   ]
  },
  {
   "cell_type": "markdown",
   "metadata": {},
   "source": [
    "# Moyenne Consommation"
   ]
  },
  {
   "cell_type": "code",
   "execution_count": 58,
   "metadata": {},
   "outputs": [],
   "source": [
    "general = 'ConsommationMoyenne'\n",
    "\n",
    "filtered_df = regions_codes.merge(df, right_on=\"Code région\", left_on=\"code\", how=\"inner\")\n",
    "filtered_df.shape, df.shape, regions_codes.shape\n",
    "filtered_df = filtered_df[['Année','code',\n",
    "            'Total',\n",
    "             'Agriculture',\n",
    "             'Industrie',\n",
    "             'Tertiaire',\n",
    "             'Résidentiel',\n",
    "             'Autre']]\n",
    "\n",
    "availible_years = filtered_df[\"Année\"].unique()\n",
    "regions_consumption = {general:{}}\n",
    "for param in ['Total',\n",
    "             'Agriculture',\n",
    "             'Industrie',\n",
    "             'Tertiaire',\n",
    "             'Résidentiel',\n",
    "             'Autre']:\n",
    "    regions_consumption[general][param] = {}\n",
    "    for code, region_groupdf in filtered_df.groupby(\"code\"):\n",
    "        regions_consumption[general][param][code] = {}\n",
    "\n",
    "        for year, year_groupdf in  region_groupdf.groupby(\"Année\"):\n",
    "            regions_consumption[general][param][code][year] = year_groupdf.iloc[0][param]\n",
    "            \n",
    "regions_consumption[general]['histogram'] = 1"
   ]
  },
  {
   "cell_type": "code",
   "execution_count": 59,
   "metadata": {},
   "outputs": [],
   "source": [
    "\n",
    "filtered_df = regions_codes.merge(df, right_on=\"Code région\", left_on=\"code\", how=\"inner\")\n",
    "filtered_df.shape, df.shape, regions_codes.shape\n",
    "filtered_df = filtered_df[['Année','code',\n",
    "            'Total',\n",
    "             'Agriculture',\n",
    "             'Industrie',\n",
    "             'Tertiaire',\n",
    "             'Résidentiel',\n",
    "             'Autre']]\n",
    "\n",
    "availible_years = filtered_df[\"Année\"].unique()\n",
    "\n",
    "for general in ['Agriculture',\n",
    "             'Industrie',\n",
    "             'Tertiaire',\n",
    "             'Résidentiel',\n",
    "             'Autre']:\n",
    "    \n",
    "    regions_consumption[general+'Moyenne'] = {}\n",
    "    df_ = filtered_df[['Année','code',general]].rename(columns={general:'Total'})\n",
    "    for param in ['Total']:\n",
    "        regions_consumption[general+'Moyenne'][param] = {}\n",
    "        for code, region_groupdf in df_.groupby(\"code\"):\n",
    "            regions_consumption[general+'Moyenne'][param][code] = {}\n",
    "\n",
    "            for year, year_groupdf in  region_groupdf.groupby(\"Année\"):\n",
    "                regions_consumption[general+'Moyenne'][param][code][year] = year_groupdf.iloc[0][param].astype(float)\n",
    "\n",
    "    regions_consumption[general+'Moyenne']['histogram'] = 0"
   ]
  },
  {
   "cell_type": "markdown",
   "metadata": {},
   "source": [
    "# Consommation Total"
   ]
  },
  {
   "cell_type": "code",
   "execution_count": 60,
   "metadata": {},
   "outputs": [],
   "source": [
    "general = 'ConsommationTotal'\n",
    "features = ['Conso totale Professionnel (MWh)',\n",
    "            'Conso totale Agriculture (MWh)',\n",
    "            'Conso totale Industrie (MWh)',\n",
    "            'Conso totale Tertiaire (MWh)',\n",
    "            'Conso totale Résidentiel (MWh)',\n",
    "            'Conso totale Secteur non affecté (MWh)']\n",
    "\n",
    "features_renamed = ['Total',\n",
    "                     'Agriculture',\n",
    "                     'Industrie',\n",
    "                     'Tertiaire',\n",
    "                     'Résidentiel',\n",
    "                     'Autre']\n",
    "\n",
    "filtered_df = regions_codes.merge(df, right_on=\"Code région\", left_on=\"code\", how=\"inner\")\n",
    "filtered_df.shape, df.shape, regions_codes.shape\n",
    "filtered_df = filtered_df[['Année','code']+features].rename(columns={features[i]:features_renamed[i] for i in range(len(features))})\n",
    "\n",
    "availible_years = filtered_df[\"Année\"].unique()\n",
    "regions_consumption[general] = {}\n",
    "for param in features_renamed:\n",
    "    regions_consumption[general][param] = {}\n",
    "    for code, region_groupdf in filtered_df.groupby(\"code\"):\n",
    "        regions_consumption[general][param][code] = {}\n",
    "\n",
    "        for year, year_groupdf in  region_groupdf.groupby(\"Année\"):\n",
    "            regions_consumption[general][param][code][year] = year_groupdf.iloc[0][param].astype(float)\n",
    "            \n",
    "regions_consumption[general]['histogram'] = 1"
   ]
  },
  {
   "cell_type": "code",
   "execution_count": 61,
   "metadata": {},
   "outputs": [],
   "source": [
    "df_prod = pd.read_csv('donnees_economix.csv', sep=',')\n",
    "df_prod = df_prod.rename(columns={'annee':'Année','code':'Code région'})\n",
    "\n",
    "general = 'ProductionTotale'\n",
    "features = ['Production_totale',\n",
    "            'Production_nucleaire',\n",
    "            'Production_thermique_totale',\n",
    "            'Production_hydraulique',\n",
    "            'Production_eolien',\n",
    "            'Production_solaire',\n",
    "            'Production_bioernergies',]\n",
    "\n",
    "features_renamed = ['Total',\n",
    "                    'Nucleaire',\n",
    "                    'Thermique',\n",
    "                    'Hydraulique',\n",
    "                    'Eolien',\n",
    "                    'Solaire',\n",
    "                    'Bioernergies']\n",
    "\n",
    "filtered_df = regions_codes.merge(df_prod, right_on=\"Code région\", left_on=\"code\", how=\"inner\")\n",
    "filtered_df.shape, df_prod.shape, regions_codes.shape\n",
    "filtered_df = filtered_df[['Année','code']+features].rename(columns={features[i]:features_renamed[i] for i in range(len(features))})\n",
    "\n",
    "availible_years = filtered_df[\"Année\"].unique()\n",
    "regions_consumption[general] = {}\n",
    "for param in features_renamed:\n",
    "    regions_consumption[general][param] = {}\n",
    "    for code, region_groupdf in filtered_df.groupby(\"code\"):\n",
    "        regions_consumption[general][param][code] = {}\n",
    "\n",
    "        for year, year_groupdf in  region_groupdf.groupby(\"Année\"):\n",
    "            regions_consumption[general][param][code][year] = year_groupdf.iloc[0][param].astype(float)\n",
    "            \n",
    "regions_consumption[general]['histogram'] = 1"
   ]
  },
  {
   "cell_type": "markdown",
   "metadata": {},
   "source": [
    "# Production CO2"
   ]
  },
  {
   "cell_type": "code",
   "execution_count": 62,
   "metadata": {},
   "outputs": [],
   "source": [
    "filtered_df['Total'] = filtered_df['Nucleaire']*12 + filtered_df['Thermique']*850 + filtered_df['Hydraulique']*24 + \\\n",
    "                        filtered_df['Eolien']*11.5 + filtered_df['Solaire']*40 + filtered_df['Bioernergies']*230"
   ]
  },
  {
   "cell_type": "code",
   "execution_count": 63,
   "metadata": {},
   "outputs": [],
   "source": [
    "general = 'ProductionCO2'\n",
    "regions_consumption[general] = {}\n",
    "\n",
    "for param in ['Total']:\n",
    "    regions_consumption[general][param] = {}\n",
    "    for code, region_groupdf in filtered_df.groupby(\"code\"):\n",
    "        regions_consumption[general][param][code] = {}\n",
    "\n",
    "        for year, year_groupdf in  region_groupdf.groupby(\"Année\"):\n",
    "            regions_consumption[general][param][code][year] = year_groupdf.iloc[0][param].astype(float)\n",
    "                          \n",
    "regions_consumption[general]['histogram'] = 0"
   ]
  },
  {
   "cell_type": "markdown",
   "metadata": {},
   "source": [
    "# Excedant"
   ]
  },
  {
   "cell_type": "code",
   "execution_count": 64,
   "metadata": {},
   "outputs": [],
   "source": [
    "filtered_df = regions_codes.merge(df_prod, right_on=\"Code région\", left_on=\"code\", how=\"inner\")\n",
    "filtered_df.shape, df.shape, regions_codes.shape\n",
    "filtered_df['Total'] = filtered_df['Excedent_Deficit']\n",
    "filtered_df = filtered_df[['Année','code','Total']]\n",
    "\n",
    "general = 'Excedent'\n",
    "regions_consumption[general] = {}\n",
    "\n",
    "for param in ['Total']:\n",
    "    regions_consumption[general][param] = {}\n",
    "    for code, region_groupdf in filtered_df.groupby(\"code\"):\n",
    "        regions_consumption[general][param][code] = {}\n",
    "\n",
    "        for year, year_groupdf in  region_groupdf.groupby(\"Année\"):\n",
    "            regions_consumption[general][param][code][year] = year_groupdf.iloc[0][param].astype(float)\n",
    "                          \n",
    "regions_consumption[general]['histogram'] = 0"
   ]
  },
  {
   "cell_type": "code",
   "execution_count": 66,
   "metadata": {},
   "outputs": [],
   "source": [
    "for elmt in regions_consumption.keys():\n",
    "    with open(\"all_consumption.json\", \"w\") as f:\n",
    "        json.dump(regions_consumption, f)"
   ]
  },
  {
   "cell_type": "code",
   "execution_count": 71,
   "metadata": {},
   "outputs": [
    {
     "data": {
      "text/plain": [
       "['Total',\n",
       " 'Nucleaire',\n",
       " 'Thermique',\n",
       " 'Hydraulique',\n",
       " 'Eolien',\n",
       " 'Solaire',\n",
       " 'Bioernergies',\n",
       " 'histogram']"
      ]
     },
     "execution_count": 71,
     "metadata": {},
     "output_type": "execute_result"
    }
   ],
   "source": [
    "list(regions_consumption['ProductionTotale'].keys())"
   ]
  },
  {
   "cell_type": "code",
   "execution_count": null,
   "metadata": {},
   "outputs": [],
   "source": []
  }
 ],
 "metadata": {
  "kernelspec": {
   "display_name": "Python 3",
   "language": "python",
   "name": "python3"
  },
  "language_info": {
   "codemirror_mode": {
    "name": "ipython",
    "version": 3
   },
   "file_extension": ".py",
   "mimetype": "text/x-python",
   "name": "python",
   "nbconvert_exporter": "python",
   "pygments_lexer": "ipython3",
   "version": "3.7.1"
  },
  "toc": {
   "base_numbering": 1,
   "nav_menu": {},
   "number_sections": true,
   "sideBar": true,
   "skip_h1_title": false,
   "title_cell": "Table of Contents",
   "title_sidebar": "Contents",
   "toc_cell": false,
   "toc_position": {},
   "toc_section_display": true,
   "toc_window_display": false
  }
 },
 "nbformat": 4,
 "nbformat_minor": 2
}
